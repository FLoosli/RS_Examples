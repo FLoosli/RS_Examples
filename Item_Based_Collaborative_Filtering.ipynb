{
 "cells": [
  {
   "cell_type": "markdown",
   "metadata": {},
   "source": [
    "## Colaborative Filtering with various distances"
   ]
  },
  {
   "cell_type": "code",
   "execution_count": 8,
   "metadata": {},
   "outputs": [],
   "source": [
    "import numpy as np\n",
    "import pandas as pd\n",
    "import random\n",
    "import matplotlib.pyplot as plt\n",
    "import time\n",
    "from tqdm import tqdm"
   ]
  },
  {
   "cell_type": "code",
   "execution_count": 9,
   "metadata": {},
   "outputs": [],
   "source": [
    "class K_NN_Classifier:\n",
    "\n",
    "    def __init__(self, K, distance):\n",
    "        self.K = K\n",
    "        self.distance = distance\n",
    "        self.sources = None\n",
    "\n",
    "    def train(self, sources):\n",
    "        self.sources = sources\n",
    "    \n",
    "    # Pearson correlation coefficient\n",
    "    def pearson_correlation_coefficient(self, x):\n",
    "\n",
    "        mx = x.mean()\n",
    "        xm = x - mx\n",
    "\n",
    "        dist = list()\n",
    "        for idx, y in self.sources.iterrows():\n",
    "\n",
    "            my = y.mean()\n",
    "            ym = y - my\n",
    "\n",
    "            num = np.add.reduce(xm * ym)\n",
    "            den = np.sqrt(np.sum(xm * xm, axis=0) * np.sum(ym * ym, axis=0))\n",
    "            if den == 0:\n",
    "                r = 0\n",
    "            else:\n",
    "                r = num / den\n",
    "\n",
    "            dist.append(r)\n",
    "\n",
    "        return np.array(dist)\n",
    "    \n",
    "    # Cosine distance\n",
    "    def cosine_distance(self, x):\n",
    "        \n",
    "        sum_x = np.sum(np.sqrt(x**2))\n",
    "        \n",
    "        dist = list()\n",
    "        for idx, y in self.sources.iterrows():\n",
    "            \n",
    "            num = np.sum(np.dot(x, y))\n",
    "            den = np.sum(np.sqrt(y**2)) * sum_x\n",
    "            \n",
    "            if den == 0:\n",
    "                r = 0\n",
    "            else:\n",
    "                r = num / den\n",
    "            \n",
    "            dist.append(r)\n",
    "            \n",
    "        return np.array(dist)\n",
    "    \n",
    "    # Absolute distance\n",
    "    def abs_distance(self, x):\n",
    "        \n",
    "        sum_x = np.sum(x)\n",
    "        \n",
    "        dist = list()\n",
    "        for idx, y in self.sources.iterrows():\n",
    "            \n",
    "            num = np.sum(np.abs(x, y))\n",
    "            den = np.sum(y) * sum_x\n",
    "            \n",
    "            if den == 0:\n",
    "                r = 0\n",
    "            else:\n",
    "                r = num / den\n",
    "            \n",
    "            dist.append(r)\n",
    "        \n",
    "        return np.array(dist)\n",
    "\n",
    "    def predict(self, item):\n",
    "        \n",
    "        if self.distance == 'pcc':\n",
    "            dists = self.pearson_correlation_coefficient(item)\n",
    "        elif self.distance == 'cosine':\n",
    "            dists = self.cosine_distance(item)\n",
    "        else:\n",
    "            dists = self.abs_distance(item)\n",
    "        \n",
    "        indices = dists.argsort()[-self.K - 1:]\n",
    "        indices = indices[::-1]\n",
    "        vectors = []\n",
    "        for index in indices:\n",
    "            vectors.append(self.sources.iloc[index])\n",
    "        return np.sort(dists)[::-1][:self.K + 1], vectors"
   ]
  },
  {
   "cell_type": "code",
   "execution_count": 10,
   "metadata": {},
   "outputs": [],
   "source": [
    "def predict_itembased(user_id, item_id, sample, log=True):\n",
    "\n",
    "    similarities, vectors = model_knn.predict(sample)\n",
    "\n",
    "    mean_i = sample.mean()\n",
    "    nom = 0\n",
    "    den = similarities.sum()\n",
    "\n",
    "    for i, vector in enumerate(vectors):\n",
    "        nom += similarities[i]*(vector.iloc[user_id] - mean_i)\n",
    "\n",
    "    if den == 0:\n",
    "        return 0\n",
    "    prediction = mean_i + nom/den\n",
    "    prediction = round(prediction)\n",
    "\n",
    "    if log:\n",
    "        print(f'\\nPredicted rating for user {user_id} -> item {item_id}: {prediction}')\n",
    "\n",
    "    return prediction"
   ]
  },
  {
   "cell_type": "code",
   "execution_count": 11,
   "metadata": {},
   "outputs": [],
   "source": [
    "def evaluate(matrix, sample_size=1000):\n",
    "\n",
    "    iteration = list()\n",
    "    times = list()\n",
    "\n",
    "    n_items = matrix.shape[0]\n",
    "    n_users = matrix.shape[1]\n",
    "\n",
    "    prediction = pd.DataFrame(0, index=range(n_items), columns=range(n_users))\n",
    "    ground_truth = pd.DataFrame(0, index=range(n_items), columns=range(n_users))\n",
    "\n",
    "    start = time.time()\n",
    "\n",
    "    for i in tqdm(range(sample_size)):\n",
    "        \n",
    "        while True:\n",
    "            rand_i = random.randint(0, n_users - 1)\n",
    "            rand_j = random.randint(0, n_items - 1)\n",
    "            sol = matrix.iloc[rand_j, rand_i]\n",
    "            if sol != 0:\n",
    "                break\n",
    "\n",
    "        ground_truth.at[rand_j, rand_i] = sol\n",
    "\n",
    "        vector = matrix.iloc[rand_j]\n",
    "        vector[rand_i] = 0\n",
    "\n",
    "        pred = predict_itembased(rand_i, rand_j, vector, False)\n",
    "        prediction.at[rand_j, rand_i] = pred\n",
    "\n",
    "        if i % 50 == 0:\n",
    "            iteration.append(i)\n",
    "            temp_time = time.time() - start\n",
    "            times.append(temp_time)\n",
    "\n",
    "    result = np.sqrt(np.sum((np.array(prediction) - np.array(ground_truth)) ** 2) / sample_size)\n",
    "    print(f\"RMSE value is: {result}\")\n",
    "    result = np.sum(np.abs(np.array(prediction) - np.array(ground_truth))) / sample_size\n",
    "    print(f\"MAE value is: {result}\")\n",
    "\n",
    "    return result, times, iteration"
   ]
  },
  {
   "cell_type": "code",
   "execution_count": 12,
   "metadata": {},
   "outputs": [
    {
     "name": "stderr",
     "output_type": "stream",
     "text": [
      "100%|███████████████████████████████████████████████████████████████████████████████████████████████████████████████| 20/20 [00:36<00:00,  1.82s/it]"
     ]
    },
    {
     "name": "stdout",
     "output_type": "stream",
     "text": [
      "RMSE value is: 1.6278820596099706\n",
      "MAE value is: 1.15\n"
     ]
    },
    {
     "name": "stderr",
     "output_type": "stream",
     "text": [
      "\n"
     ]
    }
   ],
   "source": [
    "train = pd.read_csv('D:/Pycharm_Project/data/networks/filmtrust/train.csv', header=0, index_col=[0])\n",
    "test = pd.read_csv('D:/Pycharm_Project/data/networks/filmtrust/test.csv', header=0, index_col=[0])\n",
    "\n",
    "k = 5\n",
    "model_knn = K_NN_Classifier(K=k, distance='pcc')\n",
    "model_knn.train(train)\n",
    "\n",
    "res, times, it = evaluate(test, 20)"
   ]
  },
  {
   "cell_type": "code",
   "execution_count": null,
   "metadata": {},
   "outputs": [],
   "source": []
  }
 ],
 "metadata": {
  "kernelspec": {
   "display_name": "Python 3",
   "language": "python",
   "name": "python3"
  },
  "language_info": {
   "codemirror_mode": {
    "name": "ipython",
    "version": 3
   },
   "file_extension": ".py",
   "mimetype": "text/x-python",
   "name": "python",
   "nbconvert_exporter": "python",
   "pygments_lexer": "ipython3",
   "version": "3.7.2"
  }
 },
 "nbformat": 4,
 "nbformat_minor": 2
}
