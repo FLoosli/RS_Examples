{
 "cells": [
  {
   "cell_type": "markdown",
   "metadata": {},
   "source": [
    "## Probabilistic Matrix Factorization"
   ]
  },
  {
   "cell_type": "code",
   "execution_count": 9,
   "metadata": {},
   "outputs": [],
   "source": [
    "import numpy as np\n",
    "import pandas as pd\n",
    "import matplotlib.pyplot as plt\n",
    "import time"
   ]
  },
  {
   "cell_type": "code",
   "execution_count": 13,
   "metadata": {},
   "outputs": [],
   "source": [
    "class PMF():\n",
    "\n",
    "    def __init__(self, learning_rate, latent_dim, regu_u, regu_i, num_user, num_item):\n",
    "\n",
    "        self.learning_rate = learning_rate\n",
    "        self.latent_dim = latent_dim\n",
    "\n",
    "        self.regu_u = regu_u\n",
    "        self.regu_i = regu_i\n",
    "\n",
    "        self.U = 0.1 * np.random.randn(num_user, latent_dim)\n",
    "        self.V = 0.1 * np.random.randn(num_item, latent_dim)\n",
    "\n",
    "    def predict(self, user, item):\n",
    "        return np.dot(self.U[user], self.V[item].T)\n",
    "\n",
    "    def train(self, train, test, maxiter):\n",
    "\n",
    "        rmse_errors = list()\n",
    "        mae_errors = list()\n",
    "        losses = list()\n",
    "        i = 0\n",
    "        pre_mae = 100000\n",
    "\n",
    "        for i in range(maxiter):\n",
    "\n",
    "            loss = 0.0\n",
    "            for user in range(train.shape[1]):\n",
    "                for item in range(train.shape[0]):\n",
    "                    if train.iloc[item, user] > 0:\n",
    "\n",
    "                        predicted_rating = self.predict(user, item)\n",
    "                        error = train.iloc[item, user] - predicted_rating\n",
    "                        loss += error ** 2\n",
    "\n",
    "                        self.U[user] += self.learning_rate * (error * self.V[item] - self.regu_u * self.U[user])\n",
    "                        self.V[item] += self.learning_rate * (error * self.U[user] - self.regu_i * self.V[item])\n",
    "\n",
    "                        loss += self.regu_u * np.square(self.U[user]).mean() + self.regu_i * np.square(self.V[item]).mean()\n",
    "\n",
    "            loss = 0.5 * loss / len(train)\n",
    "            losses.append(loss)\n",
    "            rmse, mae = self.eval_rmse(test)\n",
    "            rmse_errors.append(rmse)\n",
    "            mae_errors.append(mae)\n",
    "            print(f'iter: {i} loss: {loss} rmse: {rmse} mae: {mae}')\n",
    "\n",
    "            if pre_mae - mae < 0.01:\n",
    "                break\n",
    "            pre_mae = mae\n",
    "\n",
    "        return i, losses, rmse_errors, mae_errors\n",
    "    \n",
    "    def eval_rmse(self, test):\n",
    "\n",
    "        tmp_rmse = 0\n",
    "        tmp_mae = 0\n",
    "        k = 0\n",
    "\n",
    "        for user in range(test.shape[1]):\n",
    "            for item in range(test.shape[0]):\n",
    "                if test.iloc[item, user] > 0:\n",
    "                    k += 1\n",
    "                    predict_rating = self.predict(user, item)\n",
    "                    tmp_rmse += np.square(test.iloc[item, user] - predict_rating)\n",
    "                    tmp_mae += np.abs(test.iloc[item, user] - predict_rating)\n",
    "\n",
    "        return np.sqrt(tmp_rmse / k), tmp_mae / k"
   ]
  },
  {
   "cell_type": "code",
   "execution_count": 14,
   "metadata": {},
   "outputs": [],
   "source": [
    "def plot(epochs, losses, rmse_errors, mae_errors):\n",
    "    plt.figure()\n",
    "    plt.plot(np.arange(epochs), losses, rmse_errors, mae_errors)\n",
    "    plt.legend(['loss', 'rmse', 'mae'])\n",
    "    plt.xlabel('epoch')\n",
    "    plt.ylabel('loss')\n",
    "    plt.title('Losses')\n",
    "    plt.show()"
   ]
  },
  {
   "cell_type": "code",
   "execution_count": null,
   "metadata": {},
   "outputs": [],
   "source": [
    "train = pd.read_csv('filmtrust/train.csv', header=0, index_col=[0])\n",
    "test = pd.read_csv('filmtrust/test.csv', header=0, index_col=[0])\n",
    "num_user = train.shape[1]\n",
    "num_item = train.shape[0] + test.shape[0]\n",
    "print(num_user, num_item)\n",
    "\n",
    "pmf = PMF(learning_rate=0.01, latent_dim=5, regu_u=0.01, regu_i=0.01, num_user=num_user, num_item=num_item)\n",
    "start = time.time()\n",
    "i, losses, rmse_error, mae_error = pmf.train(train, test, 20)\n",
    "\n",
    "print(f'Time elapsed: {time.time() - start}')\n",
    "plot(i+1, losses, rmse_error, mae_error)"
   ]
  },
  {
   "cell_type": "code",
   "execution_count": null,
   "metadata": {},
   "outputs": [],
   "source": []
  }
 ],
 "metadata": {
  "kernelspec": {
   "display_name": "Python 3",
   "language": "python",
   "name": "python3"
  },
  "language_info": {
   "codemirror_mode": {
    "name": "ipython",
    "version": 3
   },
   "file_extension": ".py",
   "mimetype": "text/x-python",
   "name": "python",
   "nbconvert_exporter": "python",
   "pygments_lexer": "ipython3",
   "version": "3.7.2"
  }
 },
 "nbformat": 4,
 "nbformat_minor": 2
}
