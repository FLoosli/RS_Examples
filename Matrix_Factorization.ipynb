{
 "cells": [
  {
   "cell_type": "markdown",
   "metadata": {},
   "source": [
    "## Matrix Factorization"
   ]
  },
  {
   "cell_type": "markdown",
   "metadata": {},
   "source": [
    "- Try channel ratings dataset from Pin data or Infosys\n",
    "- Averaging correct? \n",
    "- Encoding priors\n",
    "- Clip every feature to range \n",
    "- Context aware recommender system SLIM / Asymetric matrix factorization"
   ]
  },
  {
   "cell_type": "code",
   "execution_count": 1,
   "metadata": {},
   "outputs": [],
   "source": [
    "import numpy as np\n",
    "import pandas as pd\n",
    "import matplotlib.pyplot as plt\n",
    "import time"
   ]
  },
  {
   "cell_type": "code",
   "execution_count": 4,
   "metadata": {},
   "outputs": [],
   "source": [
    "# Probabilistic Matrix Factorization\n",
    "class PMF():\n",
    "\n",
    "    def __init__(self, learning_rate, latent_dim, regu_u, regu_i, num_user, num_item):\n",
    "\n",
    "        self.learning_rate = learning_rate\n",
    "        self.latent_dim = latent_dim\n",
    "\n",
    "        self.regu_u = regu_u\n",
    "        self.regu_i = regu_i\n",
    "\n",
    "        self.U = 0.1 * np.random.randn(num_user, latent_dim)\n",
    "        self.V = 0.1 * np.random.randn(num_item, latent_dim)\n",
    "\n",
    "    def predict(self, user, item):\n",
    "        return np.dot(self.U[user], self.V[item].T)\n",
    "\n",
    "    def train(self, train, test, maxiter):\n",
    "\n",
    "        rmse_errors = list()\n",
    "        mae_errors = list()\n",
    "        losses = list()\n",
    "        i = 0\n",
    "        pre_mae = 100000\n",
    "\n",
    "        for i in range(maxiter):\n",
    "\n",
    "            loss = 0.0\n",
    "            for user in range(train.shape[1]):\n",
    "                for item in range(train.shape[0]):\n",
    "                    if train.iloc[item, user] > 0:\n",
    "\n",
    "                        predicted_rating = self.predict(user, item)\n",
    "                        error = train.iloc[item, user] - predicted_rating\n",
    "                        loss += error ** 2\n",
    "\n",
    "                        self.U[user] += self.learning_rate * (error * self.V[item] - self.regu_u * self.U[user])\n",
    "                        self.V[item] += self.learning_rate * (error * self.U[user] - self.regu_i * self.V[item])\n",
    "\n",
    "                        loss += self.regu_u * np.square(self.U[user]).mean() + self.regu_i * np.square(self.V[item]).mean()\n",
    "\n",
    "            loss = 0.5 * loss / len(train)\n",
    "            losses.append(loss)\n",
    "            rmse, mae = self.eval_rmse(test)\n",
    "            rmse_errors.append(rmse)\n",
    "            mae_errors.append(mae)\n",
    "            print(f'iter: {i} loss: {loss} rmse: {rmse} mae: {mae}')\n",
    "\n",
    "            if pre_mae - mae < 0.01:\n",
    "                break\n",
    "            pre_mae = mae\n",
    "\n",
    "        return i, losses, rmse_errors, mae_errors\n",
    "    \n",
    "    def eval_rmse(self, test):\n",
    "\n",
    "        tmp_rmse = 0\n",
    "        tmp_mae = 0\n",
    "        k = 0\n",
    "\n",
    "        for user in range(test.shape[1]):\n",
    "            for item in range(test.shape[0]):\n",
    "                if test.iloc[item, user] > 0:\n",
    "                    k += 1\n",
    "                    predict_rating = self.predict(user, item)\n",
    "                    tmp_rmse += np.square(test.iloc[item, user] - predict_rating)\n",
    "                    tmp_mae += np.abs(test.iloc[item, user] - predict_rating)\n",
    "\n",
    "        rmse = np.sqrt(tmp_rmse / k)\n",
    "        mae = tmp_mae / k\n",
    "        return rmse, mae"
   ]
  },
  {
   "cell_type": "code",
   "execution_count": 5,
   "metadata": {},
   "outputs": [],
   "source": [
    "def plot(epochs, losses, rmse_errors, mae_errors):\n",
    "\n",
    "    plt.figure()\n",
    "    plt.plot(np.arange(epochs), losses, rmse_errors, mae_errors)\n",
    "    plt.legend(['loss', 'rmse', 'mae'])\n",
    "    plt.xlabel('epoch')\n",
    "    plt.ylabel('loss')\n",
    "    plt.title('Losses')\n",
    "    plt.savefig('Train_Evo.png')"
   ]
  },
  {
   "cell_type": "code",
   "execution_count": 8,
   "metadata": {},
   "outputs": [
    {
     "name": "stdout",
     "output_type": "stream",
     "text": [
      "1508 2071\n",
      "iter: 0 loss: 60.12278310850035 rmse: 3.0615551387407853 mae: 2.9178759104790677\n",
      "iter: 1 loss: 23.60056057077349 rmse: 2.971173555788856 mae: 2.813898567739251\n",
      "iter: 2 loss: 18.12305875707197 rmse: 2.8921163974124613 mae: 2.7136285923262946\n",
      "iter: 3 loss: 15.627948894192706 rmse: 2.8243032701048976 mae: 2.626548869454085\n",
      "iter: 4 loss: 13.478760759729559 rmse: 2.759389664999779 mae: 2.5490020514321987\n",
      "iter: 5 loss: 11.535322700641153 rmse: 2.694812749529572 mae: 2.4765586059872766\n",
      "iter: 6 loss: 9.818689358937771 rmse: 2.632955388679719 mae: 2.408448865564919\n",
      "iter: 7 loss: 8.355172198363015 rmse: 2.5765896239036232 mae: 2.3464287982106704\n",
      "iter: 8 loss: 7.135049927846097 rmse: 2.526944294419324 mae: 2.2920018749005955\n",
      "iter: 9 loss: 6.125589644738107 rmse: 2.483985650402089 mae: 2.245265520317609\n",
      "iter: 10 loss: 5.289810915874834 rmse: 2.447086579028151 mae: 2.205500418024979\n",
      "iter: 11 loss: 4.59396420570577 rmse: 2.415421927163851 mae: 2.1717474787848\n",
      "iter: 12 loss: 4.010097183245252 rmse: 2.388156863251544 mae: 2.1429750988107794\n",
      "iter: 13 loss: 3.516416967390819 rmse: 2.3645348097955297 mae: 2.1182419783546558\n",
      "iter: 14 loss: 3.0963274194727264 rmse: 2.3439100131165453 mae: 2.0969293767784327\n",
      "iter: 15 loss: 2.7370824583280804 rmse: 2.3257493537505707 mae: 2.078254427885166\n",
      "iter: 16 loss: 2.428633230449218 rmse: 2.3096203713471 mae: 2.0616699324255343\n",
      "iter: 17 loss: 2.1628359663827585 rmse: 2.295175375297233 mae: 2.046841088055401\n",
      "iter: 18 loss: 1.932966226980553 rmse: 2.2821360426136743 mae: 2.033446617355404\n",
      "iter: 19 loss: 1.7334265700693547 rmse: 2.2702799329232795 mae: 2.021270934349428\n",
      "Time elapsed: 564.2452311515808\n"
     ]
    },
    {
     "data": {
      "image/png": "[encoded data removed]",
      "text/plain": [
       "<Figure size 432x288 with 1 Axes>"
      ]
     },
     "metadata": {
      "needs_background": "light"
     },
     "output_type": "display_data"
    }
   ],
   "source": [
    "train = pd.read_csv('D:/Pycharm_Project/data/filmtrust/train.csv', header=0, index_col=[0])\n",
    "test = pd.read_csv('D:/Pycharm_Project/data/filmtrust/test.csv', header=0, index_col=[0])\n",
    "num_user = train.shape[1]\n",
    "num_item = train.shape[0] + test.shape[0]\n",
    "print(num_user, num_item)\n",
    "\n",
    "pmf = PMF(learning_rate=0.01, latent_dim=50, regu_u=0.01, regu_i=0.01, num_user=num_user, num_item=num_item)\n",
    "start = time.time()\n",
    "i, losses, rmse_error, mae_error = pmf.train(train, test, 20)\n",
    "\n",
    "print(f'Time elapsed: {time.time() - start}')\n",
    "plot(i+1, losses, rmse_error, mae_error)"
   ]
  },
  {
   "cell_type": "code",
   "execution_count": null,
   "metadata": {},
   "outputs": [],
   "source": []
  }
 ],
 "metadata": {
  "kernelspec": {
   "display_name": "Python 3",
   "language": "python",
   "name": "python3"
  },
  "language_info": {
   "codemirror_mode": {
    "name": "ipython",
    "version": 3
   },
   "file_extension": ".py",
   "mimetype": "text/x-python",
   "name": "python",
   "nbconvert_exporter": "python",
   "pygments_lexer": "ipython3",
   "version": "3.7.2"
  }
 },
 "nbformat": 4,
 "nbformat_minor": 2
}
